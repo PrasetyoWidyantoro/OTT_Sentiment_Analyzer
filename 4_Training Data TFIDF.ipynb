{
 "cells": [
  {
   "cell_type": "markdown",
   "id": "586e0e61",
   "metadata": {},
   "source": [
    "# Training Model - Unbalance Data"
   ]
  },
  {
   "cell_type": "markdown",
   "id": "6e146939",
   "metadata": {},
   "source": [
    "# Import Library"
   ]
  },
  {
   "cell_type": "code",
   "execution_count": 30,
   "id": "e86bcca6",
   "metadata": {},
   "outputs": [],
   "source": [
    "#import all realated libraries\n",
    "#import libraries for data analysis\n",
    "import numpy as np\n",
    "import pandas as pd\n",
    "\n",
    "# import library for visualization\n",
    "import seaborn as sns\n",
    "import matplotlib.pyplot as plt\n",
    "\n",
    "# import pickle and json file for columns and model file\n",
    "import pickle\n",
    "import json\n",
    "import joblib\n",
    "\n",
    "# import warnings for ignore the warnings\n",
    "import warnings \n",
    "warnings.filterwarnings(\"ignore\")\n",
    "\n",
    "# library for model selection and models\n",
    "from sklearn.model_selection import train_test_split\n",
    "from sklearn.linear_model import LogisticRegression\n",
    "from sklearn.neighbors import KNeighborsClassifier\n",
    "from sklearn.tree import DecisionTreeClassifier\n",
    "from sklearn.ensemble import RandomForestClassifier\n",
    "from sklearn.ensemble import AdaBoostClassifier\n",
    "from xgboost import XGBClassifier\n",
    "from sklearn.svm import SVC\n",
    "from sklearn.linear_model import RidgeClassifier\n",
    "from sklearn.ensemble import BaggingClassifier\n",
    "from sklearn.ensemble import GradientBoostingClassifier\n",
    "from sklearn.ensemble import ExtraTreesClassifier\n",
    "import xgboost as xgb\n",
    "import lightgbm as lgb\n",
    "from lightgbm import LGBMClassifier\n",
    "\n",
    "# evaluation metrics for classification model\n",
    "from sklearn.metrics import accuracy_score,classification_report,confusion_matrix\n",
    "from sklearn.metrics import classification_report, ConfusionMatrixDisplay\n",
    "from sklearn.metrics import accuracy_score, roc_auc_score\n",
    "\n",
    "from sklearn.model_selection import GridSearchCV\n",
    "from sklearn.model_selection import RepeatedStratifiedKFold\n",
    "\n",
    "import tensorflow as tf\n",
    "from tensorflow.keras.models import Sequential\n",
    "from tensorflow.keras.layers import Dense, Dropout\n",
    "from scikeras.wrappers import KerasClassifier\n",
    "from tensorflow import keras\n",
    "from tensorflow.keras.wrappers.scikit_learn import KerasClassifier\n",
    "\n",
    "# import pickle and json file for columns and model file\n",
    "import pickle\n",
    "import json\n",
    "import joblib\n",
    "import yaml\n",
    "import scipy.stats as scs\n",
    "import src.util as util\n",
    "import yaml\n",
    "import json\n",
    "from datetime import datetime\n",
    "from sklearn.metrics import classification_report\n",
    "import uuid\n",
    "\n",
    "from sklearn.linear_model import LogisticRegression\n",
    "from sklearn.model_selection import cross_val_score"
   ]
  },
  {
   "cell_type": "code",
   "execution_count": 31,
   "id": "2f9b14ff-ce6a-4047-8427-c81719d9ba53",
   "metadata": {},
   "outputs": [],
   "source": [
    "config_data = util.load_config()"
   ]
  },
  {
   "cell_type": "code",
   "execution_count": 33,
   "id": "51a3d278-a954-4335-ab34-b792a3696409",
   "metadata": {},
   "outputs": [
    {
     "data": {
      "text/plain": [
       "'dataset/3 - final/X_train_tfidf.pkl'"
      ]
     },
     "execution_count": 33,
     "metadata": {},
     "output_type": "execute_result"
    }
   ],
   "source": [
    "config_data[\"train_tfidf_set_path\"][0]"
   ]
  },
  {
   "cell_type": "markdown",
   "id": "254cb49d",
   "metadata": {},
   "source": [
    "## Read Data"
   ]
  },
  {
   "cell_type": "code",
   "execution_count": 35,
   "id": "abafacab-3802-4b56-9691-2ea954d47d51",
   "metadata": {},
   "outputs": [],
   "source": [
    "#Read data X_train dan y_sm hasil dari data preparation\n",
    "X_train_clean = joblib.load(config_data[\"train_tfidf_set_path\"][0])\n",
    "y_train = joblib.load(config_data[\"train_tfidf_set_path\"][1])\n",
    "\n",
    "#Read data X_valid dan y_valid hasil dari data preparation\n",
    "X_valid_clean = joblib.load(config_data[\"valid_tfidf_set_path\"][0])\n",
    "y_valid = joblib.load(config_data[\"valid_tfidf_set_path\"][1])\n",
    "\n",
    "#Read data X_test dan y_test hasil dari data preparation\n",
    "X_test_clean = joblib.load(config_data[\"test_tfidf_set_path\"][0])\n",
    "y_test = joblib.load(config_data[\"test_tfidf_set_path\"][1])"
   ]
  },
  {
   "cell_type": "markdown",
   "id": "945d7cd6",
   "metadata": {},
   "source": [
    "## Baseline Model"
   ]
  },
  {
   "cell_type": "code",
   "execution_count": 36,
   "id": "d9d769a6",
   "metadata": {},
   "outputs": [
    {
     "data": {
      "text/plain": [
       "0.7461428571428571"
      ]
     },
     "execution_count": 36,
     "metadata": {},
     "output_type": "execute_result"
    }
   ],
   "source": [
    "y_baseline_predict = y_train.mean()\n",
    "y_baseline_predict"
   ]
  },
  {
   "cell_type": "markdown",
   "id": "5f40b812-61c7-4c06-8650-ab3b9e6d990e",
   "metadata": {},
   "source": [
    "## Best Model"
   ]
  },
  {
   "cell_type": "code",
   "execution_count": 63,
   "id": "6e8868df-53d9-4f63-bdc0-860594f06aa2",
   "metadata": {},
   "outputs": [],
   "source": [
    "from sklearn.svm import SVC\n",
    "\n",
    "def binary_classification_svc_tuned(x_train, y_train, x_valid, y_valid, x_test, y_test):\n",
    "    # Set hyperparameters for Support Vector Classifier (SVC)\n",
    "    svc_params = {'C': 0.5, 'gamma': 'scale', 'kernel': 'linear','probability':True}\n",
    "    \n",
    "    # Instantiate the SVC classifier\n",
    "    svc_classifier = SVC(**svc_params, random_state=123)\n",
    "    \n",
    "    svc_classifier.fit(x_train, y_train)\n",
    "    \n",
    "    # Evaluate on the validation set\n",
    "    valid_pred = svc_classifier.predict(x_valid)\n",
    "    report = classification_report(y_valid, valid_pred, output_dict=True)\n",
    "    valid_recall = report['weighted avg']['recall']\n",
    "    valid_precision = report['weighted avg']['precision']\n",
    "    print('Validation recall:', valid_recall)\n",
    "    print('Validation precision:', valid_precision)\n",
    "    \n",
    "    # Evaluate on the test set\n",
    "    test_pred = svc_classifier.predict(x_test)\n",
    "    report = classification_report(y_test, test_pred, output_dict=True)\n",
    "    test_recall = report['weighted avg']['recall']\n",
    "    test_precision = report['weighted avg']['precision']\n",
    "    print('Test recall:', test_recall)\n",
    "    print('Test precision:', test_precision)\n",
    "    \n",
    "    return svc_classifier"
   ]
  },
  {
   "cell_type": "code",
   "execution_count": 64,
   "id": "0f49c471-9a72-4786-ac5e-bb62e8daa26f",
   "metadata": {},
   "outputs": [
    {
     "name": "stdout",
     "output_type": "stream",
     "text": [
      "Validation recall: 0.8483333333333334\n",
      "Validation precision: 0.8426421516546649\n",
      "Test recall: 0.8438888888888889\n",
      "Test precision: 0.8377652832427974\n"
     ]
    }
   ],
   "source": [
    "svc_best = binary_classification_svc_tuned(x_train=X_train_clean, y_train=y_train,\n",
    "                                           x_valid=X_valid_clean, y_valid=y_valid,\n",
    "                                           x_test=X_test_clean, y_test=y_test)"
   ]
  },
  {
   "cell_type": "code",
   "execution_count": 54,
   "id": "e9f4f06c-9310-4f34-a8cc-60d49ca7c880",
   "metadata": {},
   "outputs": [],
   "source": [
    "valid_pred = svc_best.predict(X_valid_clean)\n",
    "test_pred = svc_best.predict(X_test_clean)\n",
    "\n",
    "valid_acc = accuracy_score(y_valid, valid_pred)\n",
    "test_acc = accuracy_score(y_test, test_pred)"
   ]
  },
  {
   "cell_type": "code",
   "execution_count": 55,
   "id": "cb3ea2ed-9146-4955-a950-75697db6b2a2",
   "metadata": {},
   "outputs": [
    {
     "data": {
      "text/plain": [
       "array([0, 1, 0, ..., 1, 1, 1], dtype=int64)"
      ]
     },
     "execution_count": 55,
     "metadata": {},
     "output_type": "execute_result"
    }
   ],
   "source": [
    "valid_pred"
   ]
  },
  {
   "cell_type": "code",
   "execution_count": 56,
   "id": "7f46776b-b269-40d6-8138-1428489a70d4",
   "metadata": {},
   "outputs": [
    {
     "data": {
      "text/plain": [
       "array([1, 0, 1, ..., 1, 0, 1], dtype=int64)"
      ]
     },
     "execution_count": 56,
     "metadata": {},
     "output_type": "execute_result"
    }
   ],
   "source": [
    "test_pred"
   ]
  },
  {
   "cell_type": "code",
   "execution_count": 57,
   "id": "78faeeee-29fc-44b2-889a-a58593fce872",
   "metadata": {},
   "outputs": [
    {
     "data": {
      "text/plain": [
       "0.8483333333333334"
      ]
     },
     "execution_count": 57,
     "metadata": {},
     "output_type": "execute_result"
    }
   ],
   "source": [
    "valid_acc"
   ]
  },
  {
   "cell_type": "code",
   "execution_count": 58,
   "id": "e57c1abd-31d5-406e-964f-900827642cdf",
   "metadata": {},
   "outputs": [
    {
     "data": {
      "text/plain": [
       "0.8438888888888889"
      ]
     },
     "execution_count": 58,
     "metadata": {},
     "output_type": "execute_result"
    }
   ],
   "source": [
    "test_acc"
   ]
  },
  {
   "cell_type": "code",
   "execution_count": 59,
   "id": "7dbd9b38-1333-4a88-9823-62c97f300624",
   "metadata": {},
   "outputs": [
    {
     "name": "stdout",
     "output_type": "stream",
     "text": [
      "              precision    recall  f1-score   support\n",
      "\n",
      "           0       0.79      0.55      0.65       305\n",
      "           1       0.86      0.95      0.90       895\n",
      "\n",
      "    accuracy                           0.85      1200\n",
      "   macro avg       0.82      0.75      0.78      1200\n",
      "weighted avg       0.84      0.85      0.84      1200\n",
      "\n"
     ]
    }
   ],
   "source": [
    "print(classification_report(y_valid, valid_pred))"
   ]
  },
  {
   "cell_type": "code",
   "execution_count": 60,
   "id": "fe101ebd-066a-442f-af07-58feff1aee4c",
   "metadata": {},
   "outputs": [
    {
     "data": {
      "image/png": "[encoded data removed]",
      "text/plain": [
       "<Figure size 640x480 with 2 Axes>"
      ]
     },
     "metadata": {},
     "output_type": "display_data"
    }
   ],
   "source": [
    "ConfusionMatrixDisplay.from_predictions(y_valid, valid_pred)\n",
    "plt.show()"
   ]
  },
  {
   "cell_type": "code",
   "execution_count": 67,
   "id": "44942bf2-8d8a-436f-977e-cd4a854f6618",
   "metadata": {},
   "outputs": [
    {
     "name": "stdout",
     "output_type": "stream",
     "text": [
      "AUC: 0.8743035076472204\n"
     ]
    },
    {
     "data": {
      "image/png": "[encoded data removed]",
      "text/plain": [
       "<Figure size 640x480 with 1 Axes>"
      ]
     },
     "metadata": {},
     "output_type": "display_data"
    }
   ],
   "source": [
    "from sklearn.metrics import roc_curve, auc\n",
    "\n",
    "# predict probabilities for the positive class\n",
    "probs = svc_best.predict_proba(X_valid_clean)[:, 1]\n",
    "\n",
    "# calculate fpr and tpr for various thresholds\n",
    "fpr, tpr, thresholds = roc_curve(y_valid, probs)\n",
    "\n",
    "# calculate AUC\n",
    "roc_auc = auc(fpr, tpr)\n",
    "print('AUC:', roc_auc)\n",
    "\n",
    "# plot ROC curve\n",
    "plt.plot(fpr, tpr, label='ROC curve (area = %0.2f)' % roc_auc)\n",
    "plt.plot([0, 1], [0, 1], 'k--')\n",
    "plt.xlim([0.0, 1.0])\n",
    "plt.ylim([0.0, 1.05])\n",
    "plt.xlabel('False Positive Rate')\n",
    "plt.ylabel('True Positive Rate')\n",
    "plt.title('Receiver Operating Characteristic (ROC) Curve')\n",
    "plt.legend(loc=\"lower right\")\n",
    "#plt.savefig('roc_auc.png')\n",
    "plt.show()"
   ]
  },
  {
   "cell_type": "code",
   "execution_count": 69,
   "id": "35376d6f-ef0f-4624-8691-0b8be70bcffc",
   "metadata": {},
   "outputs": [],
   "source": [
    "test_pred = svc_best.predict(X_test_clean)\n",
    "test_acc = accuracy_score(y_test, test_pred)"
   ]
  },
  {
   "cell_type": "code",
   "execution_count": 70,
   "id": "fa4ec7f9-6e45-49ca-92d0-cf4daf80f90a",
   "metadata": {},
   "outputs": [
    {
     "data": {
      "text/plain": [
       "0.8438888888888889"
      ]
     },
     "execution_count": 70,
     "metadata": {},
     "output_type": "execute_result"
    }
   ],
   "source": [
    "test_acc"
   ]
  },
  {
   "cell_type": "code",
   "execution_count": 71,
   "id": "bffa27f7-59b3-40db-99fe-95c18df9af08",
   "metadata": {},
   "outputs": [
    {
     "name": "stdout",
     "output_type": "stream",
     "text": [
      "              precision    recall  f1-score   support\n",
      "\n",
      "           0       0.78      0.54      0.64       457\n",
      "           1       0.86      0.95      0.90      1343\n",
      "\n",
      "    accuracy                           0.84      1800\n",
      "   macro avg       0.82      0.74      0.77      1800\n",
      "weighted avg       0.84      0.84      0.83      1800\n",
      "\n"
     ]
    }
   ],
   "source": [
    "print(classification_report(y_test, test_pred))"
   ]
  },
  {
   "cell_type": "code",
   "execution_count": 72,
   "id": "fb1a715a-691b-44ad-ad3b-fa3e0dc83186",
   "metadata": {},
   "outputs": [
    {
     "data": {
      "image/png": "[encoded data removed]",
      "text/plain": [
       "<Figure size 640x480 with 2 Axes>"
      ]
     },
     "metadata": {},
     "output_type": "display_data"
    }
   ],
   "source": [
    "ConfusionMatrixDisplay.from_predictions(y_test, test_pred)\n",
    "plt.show()"
   ]
  },
  {
   "cell_type": "code",
   "execution_count": 73,
   "id": "6831efcc-0fbc-442a-9879-19e8de295eb8",
   "metadata": {},
   "outputs": [
    {
     "name": "stdout",
     "output_type": "stream",
     "text": [
      "AUC: 0.871736257863531\n"
     ]
    },
    {
     "data": {
      "image/png": "[encoded data removed]",
      "text/plain": [
       "<Figure size 640x480 with 1 Axes>"
      ]
     },
     "metadata": {},
     "output_type": "display_data"
    }
   ],
   "source": [
    "from sklearn.metrics import roc_curve, auc\n",
    "\n",
    "# predict probabilities for the positive class\n",
    "probs = svc_best.predict_proba(X_test_clean)[:, 1]\n",
    "\n",
    "# calculate fpr and tpr for various thresholds\n",
    "fpr, tpr, thresholds = roc_curve(y_test, probs)\n",
    "\n",
    "# calculate AUC\n",
    "roc_auc = auc(fpr, tpr)\n",
    "print('AUC:', roc_auc)\n",
    "\n",
    "# plot ROC curve\n",
    "plt.plot(fpr, tpr, label='ROC curve (area = %0.2f)' % roc_auc)\n",
    "plt.plot([0, 1], [0, 1], 'k--')\n",
    "plt.xlim([0.0, 1.0])\n",
    "plt.ylim([0.0, 1.05])\n",
    "plt.xlabel('False Positive Rate')\n",
    "plt.ylabel('True Positive Rate')\n",
    "plt.title('Receiver Operating Characteristic (ROC) Curve')\n",
    "plt.legend(loc=\"lower right\")\n",
    "#plt.savefig('roc_auc.png')\n",
    "plt.show()"
   ]
  },
  {
   "cell_type": "markdown",
   "id": "bc5c34f2-3eea-44ed-9a2a-ea8928e80bb3",
   "metadata": {},
   "source": [
    "## Save Log Best Model"
   ]
  },
  {
   "cell_type": "code",
   "execution_count": 74,
   "id": "f5d5b3b2-3e29-4475-be53-995a2d0cba27",
   "metadata": {},
   "outputs": [],
   "source": [
    "def save_model_log(model, model_name, X_test, y_test):\n",
    "    # generate unique id\n",
    "    model_uid = uuid.uuid4().hex\n",
    "    \n",
    "    # get current time and date\n",
    "    now = datetime.now()\n",
    "    training_time = now.strftime(\"%H:%M:%S\")\n",
    "    training_date = now.strftime(\"%Y-%m-%d\")\n",
    "    \n",
    "    # generate classification report\n",
    "    y_pred = model.predict(X_test)\n",
    "    report = classification_report(y_test, y_pred, output_dict=True)\n",
    "    \n",
    "    # create dictionary for log\n",
    "    log = {\"model_name\": model_name,\n",
    "           \"model_uid\": model_uid,\n",
    "           \"training_time\": training_time,\n",
    "           \"training_date\": training_date,\n",
    "           \"classification_report\": report}\n",
    "    \n",
    "    # menyimpan log sebagai file JSON\n",
    "    with open('training_log/training_log.json', 'w') as f:\n",
    "        json.dump(log, f)"
   ]
  },
  {
   "cell_type": "code",
   "execution_count": 76,
   "id": "3d63096e-c414-4512-aaba-8ce762ccfb70",
   "metadata": {},
   "outputs": [],
   "source": [
    "save_model_log(model = svc_best, model_name = \"SVC Best\", X_test = X_test_clean, y_test=y_test)"
   ]
  },
  {
   "cell_type": "markdown",
   "id": "9aead522-3ced-43c7-95cb-3365d7189316",
   "metadata": {},
   "source": [
    "## Evaluation Metrics"
   ]
  },
  {
   "cell_type": "code",
   "execution_count": 77,
   "id": "ef219dab-d0b1-4aa2-aa1a-3901a75aaa6e",
   "metadata": {},
   "outputs": [
    {
     "data": {
      "text/html": [
       "<div>\n",
       "<style scoped>\n",
       "    .dataframe tbody tr th:only-of-type {\n",
       "        vertical-align: middle;\n",
       "    }\n",
       "\n",
       "    .dataframe tbody tr th {\n",
       "        vertical-align: top;\n",
       "    }\n",
       "\n",
       "    .dataframe thead th {\n",
       "        text-align: right;\n",
       "    }\n",
       "</style>\n",
       "<table border=\"1\" class=\"dataframe\">\n",
       "  <thead>\n",
       "    <tr style=\"text-align: right;\">\n",
       "      <th></th>\n",
       "      <th>precision</th>\n",
       "      <th>recall</th>\n",
       "      <th>f1_score</th>\n",
       "      <th>accuracy</th>\n",
       "      <th>macro_avg_precision</th>\n",
       "      <th>macro_avg_recall</th>\n",
       "      <th>macro_avg_f1_score</th>\n",
       "      <th>weighted_avg_precision</th>\n",
       "      <th>weighted_avg_recall</th>\n",
       "      <th>weighted_avg_f1_score</th>\n",
       "    </tr>\n",
       "  </thead>\n",
       "  <tbody>\n",
       "    <tr>\n",
       "      <th>SVC Best</th>\n",
       "      <td>0.837765</td>\n",
       "      <td>0.843889</td>\n",
       "      <td>0.833357</td>\n",
       "      <td>0.843889</td>\n",
       "      <td>0.818795</td>\n",
       "      <td>0.742364</td>\n",
       "      <td>0.768105</td>\n",
       "      <td>0.837765</td>\n",
       "      <td>0.843889</td>\n",
       "      <td>0.833357</td>\n",
       "    </tr>\n",
       "  </tbody>\n",
       "</table>\n",
       "</div>"
      ],
      "text/plain": [
       "          precision    recall  f1_score  accuracy  macro_avg_precision  \\\n",
       "SVC Best   0.837765  0.843889  0.833357  0.843889             0.818795   \n",
       "\n",
       "          macro_avg_recall  macro_avg_f1_score  weighted_avg_precision  \\\n",
       "SVC Best          0.742364            0.768105                0.837765   \n",
       "\n",
       "          weighted_avg_recall  weighted_avg_f1_score  \n",
       "SVC Best             0.843889               0.833357  "
      ]
     },
     "execution_count": 77,
     "metadata": {},
     "output_type": "execute_result"
    }
   ],
   "source": [
    "import pandas as pd\n",
    "from sklearn.metrics import classification_report\n",
    "\n",
    "# definisikan model-model yang ingin dibandingkan\n",
    "models = {\n",
    "          'SVC Best':svc_best\n",
    "         }\n",
    "\n",
    "# loop untuk menghitung dan menyimpan metrik untuk setiap model\n",
    "results = {}\n",
    "for name, model in models.items():\n",
    "    # hitung prediksi pada data test\n",
    "    y_pred = model.predict(X_test_clean)\n",
    "    # hitung metrik\n",
    "    report = classification_report(y_test, y_pred, output_dict=True)\n",
    "    # simpan metrik ke dictionary\n",
    "    results[name] = {\n",
    "        'precision': report['weighted avg']['precision'],\n",
    "        'recall': report['weighted avg']['recall'],\n",
    "        'f1_score': report['weighted avg']['f1-score'],\n",
    "        'accuracy': report['accuracy'],\n",
    "        'macro_avg_precision': report['macro avg']['precision'],\n",
    "        'macro_avg_recall': report['macro avg']['recall'],\n",
    "        'macro_avg_f1_score': report['macro avg']['f1-score'],\n",
    "        'weighted_avg_precision': report['weighted avg']['precision'],\n",
    "        'weighted_avg_recall': report['weighted avg']['recall'],\n",
    "        'weighted_avg_f1_score': report['weighted avg']['f1-score']\n",
    "    }\n",
    "\n",
    "# buat dataframe dari dictionary\n",
    "df_results = pd.DataFrame.from_dict(results, orient='index')\n",
    "\n",
    "# tampilkan dataframe sebagai tabel\n",
    "df_results"
   ]
  },
  {
   "cell_type": "markdown",
   "id": "f92c5221-fde0-42e6-b45c-911015fa567d",
   "metadata": {},
   "source": [
    "# Save Model"
   ]
  },
  {
   "cell_type": "markdown",
   "id": "96fae983-30cf-4c95-8c6a-ae1e6a9838ce",
   "metadata": {},
   "source": [
    "## SVC Model"
   ]
  },
  {
   "cell_type": "code",
   "execution_count": 82,
   "id": "4f7f2557-a93a-4292-be2d-67e4fd43fc05",
   "metadata": {},
   "outputs": [],
   "source": [
    "svc_best_cv = 'model/svc_best_cv.pkl'\n",
    "with open(svc_best_cv, 'wb') as file:\n",
    "    pickle.dump(svc_best, file)"
   ]
  },
  {
   "cell_type": "markdown",
   "id": "e0419a94-1248-44cc-89ea-e2f10479e9c2",
   "metadata": {},
   "source": [
    "## Cara Load Model"
   ]
  },
  {
   "cell_type": "code",
   "execution_count": null,
   "id": "4a8da6d4-e0b0-41e4-9d43-447c8cb4fe1d",
   "metadata": {},
   "outputs": [],
   "source": [
    "# Load model dari folder models\n",
    "\"\"\"\n",
    "filename = 'models/model.pkl'\n",
    "with open(filename, 'rb') as file:\n",
    "    model = pickle.load(file)\n",
    "\"\"\""
   ]
  }
 ],
 "metadata": {
  "kernelspec": {
   "display_name": "Python 3 (ipykernel)",
   "language": "python",
   "name": "python3"
  },
  "language_info": {
   "codemirror_mode": {
    "name": "ipython",
    "version": 3
   },
   "file_extension": ".py",
   "mimetype": "text/x-python",
   "name": "python",
   "nbconvert_exporter": "python",
   "pygments_lexer": "ipython3",
   "version": "3.10.9"
  }
 },
 "nbformat": 4,
 "nbformat_minor": 5
}
